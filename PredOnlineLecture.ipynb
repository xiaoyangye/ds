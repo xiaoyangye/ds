{
 "cells": [
  {
   "cell_type": "markdown",
   "id": "9b789286-e515-4b9f-8bf5-ba6eb31deeae",
   "metadata": {},
   "source": [
    "# Predicting online learning performance using LMS data"
   ]
  },
  {
   "cell_type": "markdown",
   "id": "1220ff53-c6ff-41cf-8659-3cbb23c0f7fd",
   "metadata": {},
   "source": [
    "*Sample lecture for UVA SDS (Introduction to Data Science - using R)*\n",
    "\n",
    "---\n",
    "\n",
    "**Roadmap:**\n",
    "\n",
    "0. setup\n",
    "1. import data\n",
    "2. process data\n",
    "3. explore data\n",
    "\n",
    "    *-- what we already know --*\n",
    "\n",
    "4. partition data\n",
    "5. train the model using training data\n",
    "6. assess predictive accuracy using test data\n",
    "\n",
    "    *-- what we will work on today and in the lab session --*\n",
    "\n",
    "7. tune the model\n",
    "\n",
    "    *-- what we will work on in the next 4 weeks and in our data science careers --*\n",
    "\n",
    "---"
   ]
  },
  {
   "cell_type": "markdown",
   "id": "cdb1772e-61ac-4a50-9dd9-7a5f8b008dac",
   "metadata": {},
   "source": [
    "========================\n",
    "### PART 0: Setup\n",
    "========================"
   ]
  },
  {
   "cell_type": "code",
   "execution_count": null,
   "id": "da7c5e26-3749-4c59-b2b9-749f1f34ecc3",
   "metadata": {},
   "outputs": [],
   "source": [
    "# set working directory\n",
    "setwd(\"~/Dropbox (Brown)/SDS/data/\")"
   ]
  },
  {
   "cell_type": "code",
   "execution_count": null,
   "id": "976a0d2f-316f-49f9-8d45-174c4bf53cdd",
   "metadata": {},
   "outputs": [],
   "source": [
    "# load the packages\n",
    "\n",
    "## includes the packages that you’re likely to use in everyday data analyses\n",
    "library(tidyverse)\n",
    "library(tidylog)\n",
    "\n",
    "## Classification And REgression Training\n",
    "library(caret)\n",
    "\n",
    "## Data used for today's lecture - comment the the installation after running it for the first time\n",
    "\n",
    "    ### install devtools\n",
    "    install.packages(\"devtools\", repos = \"http://cran.us.r-project.org\")\n",
    "    ### install the dataedu package\n",
    "    devtools::install_github(\"data-edu/dataedu\")\n",
    "\n",
    "library(dataedu)"
   ]
  },
  {
   "cell_type": "markdown",
   "id": "1e33b161-833f-42ae-b39b-8e10c2fc87fc",
   "metadata": {},
   "source": [
    "========================\n",
    "### Step 1: Import data\n",
    "========================"
   ]
  },
  {
   "cell_type": "code",
   "execution_count": null,
   "id": "c15fa1f6-514c-4ff8-9e98-2fb5715ca3da",
   "metadata": {},
   "outputs": [],
   "source": [
    "# clear workspace\n",
    "ls()\n",
    "\n",
    "rm(list=ls())"
   ]
  },
  {
   "cell_type": "code",
   "execution_count": null,
   "id": "70839168-b356-49fb-aacc-425e0637caa3",
   "metadata": {},
   "outputs": [],
   "source": [
    "# get the data\n",
    "data <- dataedu::sci_mo_with_text"
   ]
  },
  {
   "cell_type": "code",
   "execution_count": null,
   "id": "6dd4c653-cd59-4de4-b1de-06b19b33679a",
   "metadata": {},
   "outputs": [],
   "source": [
    "# view the data table\n",
    "View(data)"
   ]
  },
  {
   "cell_type": "code",
   "execution_count": null,
   "id": "6f75d973-878d-4ae7-9ac1-4d9c7d85cfbb",
   "metadata": {},
   "outputs": [],
   "source": [
    "# check data structure\n",
    "str(data)"
   ]
  },
  {
   "cell_type": "code",
   "execution_count": null,
   "id": "db850553-bf95-43a7-8d9e-f144f61d47fc",
   "metadata": {},
   "outputs": [],
   "source": [
    "# basic summary\n",
    "summary(data)"
   ]
  },
  {
   "cell_type": "markdown",
   "id": "016156b2-7dde-4aac-b472-9f58b55ed17e",
   "metadata": {},
   "source": [
    "========================\n",
    "### Step 2: Process data\n",
    "========================"
   ]
  },
  {
   "cell_type": "code",
   "execution_count": null,
   "id": "73ea51fc-7682-4e33-a530-64cf444cb1c7",
   "metadata": {},
   "outputs": [],
   "source": [
    "# select only the variables we are going to use\n",
    "data_select <-\n",
    "            data %>%\n",
    "            select(\n",
    "                int,\n",
    "                uv,\n",
    "                pc,\n",
    "                time_spent,\n",
    "                final_grade,\n",
    "                subject,\n",
    "                enrollment_reason,\n",
    "                semester,\n",
    "                cogproc,\n",
    "                social,\n",
    "                posemo,\n",
    "                negemo,\n",
    "                n\n",
    "            )"
   ]
  },
  {
   "cell_type": "code",
   "execution_count": null,
   "id": "0f92cf3d-7bc2-4836-be64-8a2056f3ef68",
   "metadata": {},
   "outputs": [],
   "source": [
    "# view the new data\n",
    "View(data_select)"
   ]
  },
  {
   "cell_type": "code",
   "execution_count": null,
   "id": "bfbeca5c-1860-457a-9b7e-de79958a4710",
   "metadata": {
    "tags": []
   },
   "outputs": [],
   "source": [
    "# calling the na.omit function to eliminate ANY rows that have ANY missing data\n",
    "data_select <- na.omit(data_select)\n",
    "\n",
    "    ## note: it is a practical problem how to deal with missing values"
   ]
  },
  {
   "cell_type": "code",
   "execution_count": null,
   "id": "9847f280-909e-4057-b72d-c0c6b37aaa0c",
   "metadata": {},
   "outputs": [],
   "source": [
    "# checking whether our na.omit call worked as expected\n",
    "# after running the code above, we see that we now have 464 rows\n",
    "nrow(data_select)"
   ]
  },
  {
   "cell_type": "code",
   "execution_count": null,
   "id": "8e49f411-3b46-4457-8141-b3d2ea8d9ad1",
   "metadata": {},
   "outputs": [],
   "source": [
    "# view the new data and open a output panel\n",
    "View(data_select)"
   ]
  },
  {
   "cell_type": "code",
   "execution_count": null,
   "id": "109e1156-aef0-4abe-ae54-14a5f8d1237e",
   "metadata": {},
   "outputs": [],
   "source": [
    "# convert the text (character) variables into factors\n",
    "data_select <- \n",
    "            data_select %>% \n",
    "            mutate_if(is.character, as.factor)"
   ]
  },
  {
   "cell_type": "code",
   "execution_count": null,
   "id": "72492c4e-e6e5-4a4d-9dae-d771636cf826",
   "metadata": {},
   "outputs": [],
   "source": [
    "# check the outcome variable\n",
    "summary(data_select$final_grade)\n",
    "\n",
    "# we will use the continous variable for the regression tasks in Week 9"
   ]
  },
  {
   "cell_type": "code",
   "execution_count": null,
   "id": "ecf3ecfc-b4e9-41db-87b7-1d47bfa5ecd8",
   "metadata": {},
   "outputs": [],
   "source": [
    "# create a dummy indicator = 1 if final_grade >= 85 (GPA >= B)\n",
    "data_select$gpaB[data_select$final_grade >= 85] <- 1\n",
    "data_select$gpaB[data_select$final_grade < 85]  <- 0\n",
    "\n",
    "table(data_select$gpaB)\n",
    "\n",
    "prop.table(table(data_select$gpaB))\n",
    "\n",
    "# convert the outcome to a factor\n",
    "data_select$gpaB <- as.factor(data_select$gpaB)"
   ]
  },
  {
   "cell_type": "code",
   "execution_count": null,
   "id": "7282277f-8181-45ab-990b-03b47b0c43b0",
   "metadata": {},
   "outputs": [],
   "source": [
    "# label variables\n",
    "\n",
    "data_select$gpaB <- factor(data_select$gpaB,\n",
    "                    levels = c(0, 1),\n",
    "                    labels = c(\"GPA < B\", \"GPA >= B\"))"
   ]
  },
  {
   "cell_type": "code",
   "execution_count": null,
   "id": "cf67f373-5288-4464-ae05-559d13e88fda",
   "metadata": {},
   "outputs": [],
   "source": [
    "# remove 'final_grade'\n",
    "data_select <-\n",
    "            data_select %>%\n",
    "            select(\n",
    "                -final_grade\n",
    "            )"
   ]
  },
  {
   "cell_type": "markdown",
   "id": "01130935-f64c-426f-b8f8-e3b32d85d19c",
   "metadata": {},
   "source": [
    "========================\n",
    "### Step 3: Explore data\n",
    "========================"
   ]
  },
  {
   "cell_type": "code",
   "execution_count": null,
   "id": "f7040fbc-9921-4353-b96d-07efc9ff5508",
   "metadata": {},
   "outputs": [],
   "source": [
    "# check the key X variable: number of online posts\n",
    "summary(data_select$n)"
   ]
  },
  {
   "cell_type": "code",
   "execution_count": null,
   "id": "621262ec-bc05-47e2-8d95-39190b1f5ab0",
   "metadata": {},
   "outputs": [],
   "source": [
    "# rename the variable 'n' to 'num_posts'\n",
    "data_select <- \n",
    "    data_select %>% \n",
    "            rename(num_posts=n)"
   ]
  },
  {
   "cell_type": "code",
   "execution_count": null,
   "id": "3e1ddf5a-6aee-45a2-ae9f-08ffdfc39d2d",
   "metadata": {},
   "outputs": [],
   "source": [
    "# plot a histogram distribution of 'n'\n",
    "ggplot(data_select, aes(x=num_posts)) +\n",
    "    geom_histogram(position=\"identity\", bins = 40, fill=\"#69b3a2\")"
   ]
  },
  {
   "cell_type": "code",
   "execution_count": null,
   "id": "17150626-fe9b-4f6a-9ec4-c529f907d7d0",
   "metadata": {},
   "outputs": [],
   "source": [
    "# create a dummy indicator = 1 if n>=median and check the distribution\n",
    "data_select$post_above_median[data_select$num_posts >= 21] <- 1\n",
    "data_select$post_above_median[data_select$num_posts < 21]  <- 0\n",
    "\n",
    "table(data_select$post_above_median)\n",
    "\n",
    "prop.table(table(data_select$post_above_median))"
   ]
  },
  {
   "cell_type": "code",
   "execution_count": null,
   "id": "4ac3c910-badb-45ad-8dc4-47400351dcd2",
   "metadata": {},
   "outputs": [],
   "source": [
    "# plot the distribution of outcome by posts >= median\n",
    "ggplot(data_select, aes(x=final_grade, fill=as.factor(post_above_median))) +\n",
    "    geom_histogram(bins=20, position=\"dodge\")"
   ]
  },
  {
   "cell_type": "code",
   "execution_count": null,
   "id": "c9f6028e-3414-4f0f-aef9-24daef5e1d34",
   "metadata": {},
   "outputs": [],
   "source": [
    "# distribution of outcome by posts\n",
    "ggplot(data_select, aes(x=num_posts, y=final_grade)) + \n",
    "  geom_point(color=\"cyan3\")"
   ]
  },
  {
   "cell_type": "code",
   "execution_count": null,
   "id": "af4cd967-d924-4e61-959f-a40c05547639",
   "metadata": {},
   "outputs": [],
   "source": [
    "# distribution of outcome by posts + linear fitted line\n",
    "ggplot(data_select, aes(x=n, y=final_grade)) + \n",
    "  geom_point(color=\"cyan3\") +\n",
    "  geom_smooth(formula = y ~ x, method=lm, color=\"red\", se=FALSE)"
   ]
  },
  {
   "cell_type": "code",
   "execution_count": null,
   "id": "6f463ca8-be38-49c2-875a-d5c70468e4e7",
   "metadata": {},
   "outputs": [],
   "source": [
    "# convert the outcome to a factor\n",
    "data_select$gpaB <- as.factor(data_select$gpaB)"
   ]
  },
  {
   "cell_type": "code",
   "execution_count": null,
   "id": "da63f7a6-926b-4b85-a8df-7213a15491bc",
   "metadata": {},
   "outputs": [],
   "source": [
    "# label variables\n",
    "\n",
    "data_select$gpaB <- factor(data_select$gpaB,\n",
    "                    levels = c(0, 1),\n",
    "                    labels = c(\"GPA < B\", \"GPA >= B\"))"
   ]
  },
  {
   "cell_type": "code",
   "execution_count": null,
   "id": "ba3751e5-ac38-429a-98bb-da7d22353d6d",
   "metadata": {},
   "outputs": [],
   "source": [
    "# remove 'final_grade'\n",
    "data_select <-\n",
    "            data_select %>%\n",
    "            select(\n",
    "                -final_grade\n",
    "            )"
   ]
  },
  {
   "cell_type": "markdown",
   "id": "4b8a2f11-0591-4bda-b1fc-5b97f8ca0061",
   "metadata": {},
   "source": [
    "### Step 4: Partition data (train & test)"
   ]
  },
  {
   "cell_type": "code",
   "execution_count": null,
   "id": "9aaf1947-a2a4-49a6-a917-1ae8cb9c4e98",
   "metadata": {},
   "outputs": [],
   "source": [
    "# set a seed to ensure the reproducibility of data partition\n",
    "set.seed(20210524)"
   ]
  },
  {
   "cell_type": "code",
   "execution_count": null,
   "id": "7c17df76-3bde-4000-9133-28fba8108af3",
   "metadata": {},
   "outputs": [],
   "source": [
    "# split sample (80% training, 20% test)\n",
    "split = 0.8\n",
    "trainIndex <- createDataPartition(data_select$gpaB, p = split, list = FALSE)"
   ]
  },
  {
   "cell_type": "code",
   "execution_count": null,
   "id": "aa7d0031-411e-40b2-9108-368cc6d3b95c",
   "metadata": {},
   "outputs": [],
   "source": [
    "# train sample\n",
    "train <- data_select[trainIndex, ] "
   ]
  },
  {
   "cell_type": "code",
   "execution_count": null,
   "id": "0520adc7-b4e2-478e-aab6-2c65c3dd8978",
   "metadata": {},
   "outputs": [],
   "source": [
    "View(train)"
   ]
  },
  {
   "cell_type": "code",
   "execution_count": null,
   "id": "a7a41896-2677-402b-b973-d1c71652724e",
   "metadata": {},
   "outputs": [],
   "source": [
    "# test sample\n",
    "test  <- data_select[-trainIndex, ]"
   ]
  },
  {
   "cell_type": "code",
   "execution_count": null,
   "id": "70945cdc-e86a-44ee-8ff7-836baf7a84bc",
   "metadata": {},
   "outputs": [],
   "source": [
    "View(test)"
   ]
  },
  {
   "cell_type": "markdown",
   "id": "11a1fb72-e7f9-4957-bd86-5741fa93490c",
   "metadata": {},
   "source": [
    "### Step 5: train the model"
   ]
  },
  {
   "cell_type": "code",
   "execution_count": null,
   "id": "1284a4a6-5b42-4a49-9b13-b7bc0c6bd42f",
   "metadata": {},
   "outputs": [],
   "source": [
    "# setting a seed for reproducibility of the model\n",
    "set.seed(20210524)"
   ]
  },
  {
   "cell_type": "code",
   "execution_count": null,
   "id": "fd6f3847-96d0-4449-9192-48882deaa27a",
   "metadata": {},
   "outputs": [],
   "source": [
    "# train the decision tree model\n",
    "tree <- train(gpaB ~ .,\n",
    "              data = train,\n",
    "              method = \"rpart\",\n",
    "              metric=\"Accuracy\",\n",
    "              tuneLength = 10\n",
    "              )"
   ]
  },
  {
   "cell_type": "code",
   "execution_count": null,
   "id": "614c7ac9-8dea-4351-a730-8c7c48e32d73",
   "metadata": {},
   "outputs": [],
   "source": [
    "# get a summary of the model we just built\n",
    "tree"
   ]
  },
  {
   "cell_type": "code",
   "execution_count": null,
   "id": "69d73b2e-fdf2-4c01-b33e-96d15d823ab8",
   "metadata": {},
   "outputs": [],
   "source": [
    "# final model\n",
    "tree$finalModel"
   ]
  },
  {
   "cell_type": "code",
   "execution_count": null,
   "id": "d5912371-e935-448c-865e-4399e4a528db",
   "metadata": {},
   "outputs": [],
   "source": [
    "# tree graph\n",
    "library(rpart.plot)\n",
    "\n",
    "#pdf(\"./figure/tree.pdf\") \n",
    "\n",
    "rpart.plot(tree$finalModel)\n",
    "\n",
    "#dev.off() "
   ]
  },
  {
   "cell_type": "markdown",
   "id": "18cb943e-e9e2-468b-a537-fe989014c3f3",
   "metadata": {},
   "source": [
    "### Step 6: Predictive accuracy on the test data"
   ]
  },
  {
   "cell_type": "code",
   "execution_count": null,
   "id": "1f1aec47-d520-4c31-8d3e-98eaaceb938f",
   "metadata": {},
   "outputs": [],
   "source": [
    "# setting a seed for reproducibility\n",
    "set.seed(20210524)"
   ]
  },
  {
   "cell_type": "code",
   "execution_count": null,
   "id": "18ee0dda-2998-42fe-8f83-51902ca0d94b",
   "metadata": {},
   "outputs": [],
   "source": [
    "# Create a new object for the testing data including predicted values \n",
    "test_augmented <-\n",
    "    test %>%\n",
    "    mutate(pred = predict(rf, test),\n",
    "           obs  = final_grade)"
   ]
  },
  {
   "cell_type": "code",
   "execution_count": null,
   "id": "e5a334a8-7147-46e5-972a-7718fed626e4",
   "metadata": {
    "tags": []
   },
   "outputs": [],
   "source": [
    "# Transform this new object into a data frame\n",
    "defaultSummary(as.data.frame(test_augmented))"
   ]
  },
  {
   "cell_type": "markdown",
   "id": "1dfb1e32-7d7a-4b19-9301-05f78285d38e",
   "metadata": {},
   "source": [
    "### *** GRAPH"
   ]
  },
  {
   "cell_type": "code",
   "execution_count": null,
   "id": "e3afa646-b805-4bf4-a8a8-84627beb126b",
   "metadata": {},
   "outputs": [],
   "source": [
    "# setting a seed for reproducibility\n",
    "set.seed(20210524)"
   ]
  },
  {
   "cell_type": "code",
   "execution_count": null,
   "id": "d4a420e2-0945-4bbd-92b1-24e8971a1703",
   "metadata": {},
   "outputs": [],
   "source": [
    "# Specify the same model with the addition of the variable importance metric\n",
    "rf_imp <- train(final_grade ~ .,\n",
    "                data = train,\n",
    "                method = \"ranger\",\n",
    "                importance = \"permutation\")\n",
    "\n",
    "# Extract the variable importance from this new model\n",
    "varImp(rf_imp)"
   ]
  },
  {
   "cell_type": "code",
   "execution_count": null,
   "id": "e730a20f-fdb4-451a-b8af-f3cb745a1d2e",
   "metadata": {},
   "outputs": [],
   "source": [
    "# visualize the variable importance\n",
    "varImp(tree) %>%\n",
    "    pluck(1) %>%\n",
    "    rownames_to_column(\"var\") %>%\n",
    "    ggplot(aes(x = reorder(var, Overall), y = Overall)) +\n",
    "    geom_col(fill = \"cyan4\") +\n",
    "    coord_flip() +\n",
    "    theme_dataedu()"
   ]
  },
  {
   "cell_type": "code",
   "execution_count": null,
   "id": "87497bb5-66ca-4975-9b47-6b079c6f8253",
   "metadata": {},
   "outputs": [],
   "source": [
    "# tree plot\n",
    "ctrl <- trainControl(\n",
    "                     method = \"LGOCV\", \n",
    "                     repeats = 3, \n",
    "                     savePred=TRUE,\n",
    "                     verboseIter = TRUE,\n",
    "                     preProcOptions = list(thresh = 0.95)\n",
    "                    )\n",
    "\n",
    "preProcessInTrain<-c(\"center\", \"scale\")\n",
    "metric_used<-\"RMSE\"\n",
    "\n",
    "tree <- train(final_grade ~ .,\n",
    "              data = train,\n",
    "              method = \"rpart\",\n",
    "              trControl = ctrl,\n",
    "              metric=metric_used,\n",
    "              tuneLength = 10\n",
    "              )"
   ]
  },
  {
   "cell_type": "code",
   "execution_count": null,
   "id": "4b146323-3840-4531-95c1-c39948c4c531",
   "metadata": {},
   "outputs": [],
   "source": [
    "library(rpart.plot)\n",
    "rpart.plot(tree$finalModel)"
   ]
  },
  {
   "cell_type": "markdown",
   "id": "206b3a03-0544-4592-b759-0ae1280c4f3b",
   "metadata": {},
   "source": [
    "### Tune the model: grow a larger tree"
   ]
  },
  {
   "cell_type": "code",
   "execution_count": null,
   "id": "43a55bff-15ff-4417-b789-b1423be040d4",
   "metadata": {},
   "outputs": [],
   "source": []
  },
  {
   "cell_type": "markdown",
   "id": "b80a1fc1-b47d-4825-b181-1685c8c51f74",
   "metadata": {},
   "source": [
    "### Decision tree vs. random forest"
   ]
  },
  {
   "cell_type": "markdown",
   "id": "adad76a5-daf5-4c6b-8134-09352eb72b47",
   "metadata": {},
   "source": [
    "next:\n",
    "\n",
    "- tuning the model\n",
    "\n",
    "- add a roadmap:\n",
    "    - big picture -> example -> coding -> summary & theory"
   ]
  },
  {
   "cell_type": "code",
   "execution_count": 436,
   "id": "21541bdd-44b5-468e-809f-f94481df1cd4",
   "metadata": {},
   "outputs": [
    {
     "name": "stdout",
     "output_type": "stream",
     "text": [
      "[1] \"Well done!\"\n"
     ]
    }
   ],
   "source": [
    "print(\"Well done!\")"
   ]
  },
  {
   "cell_type": "code",
   "execution_count": null,
   "id": "e59d5fb7-3e27-4b19-b3b5-1860f79eaaff",
   "metadata": {},
   "outputs": [],
   "source": []
  }
 ],
 "metadata": {
  "kernelspec": {
   "display_name": "R",
   "language": "R",
   "name": "ir"
  },
  "language_info": {
   "codemirror_mode": "r",
   "file_extension": ".r",
   "mimetype": "text/x-r-source",
   "name": "R",
   "pygments_lexer": "r",
   "version": "4.0.3"
  }
 },
 "nbformat": 4,
 "nbformat_minor": 5
}
